{
 "cells": [
  {
   "cell_type": "code",
   "execution_count": 1,
   "metadata": {},
   "outputs": [],
   "source": [
    "import os\n",
    "from zipfile import ZipFile\n",
    "import urllib\n",
    "\n",
    "DOWNLOAD_ROOT = \"https://github.com/DoctorDatah/Titanic-Machine-Learning-from-Disaster-Kaggle/raw/master\"\n",
    "DOWNLOADING_PATH = \"DataSets\" # os.path.join(\"DataSets\", \"xxx\")\n",
    "DOWNLOAD_URL = DOWNLOAD_ROOT + \"/raw/titanic.zip\"\n",
    "\n",
    "def fetch_titanic_data(downloading_path = DOWNLOADING_PATH, download_url = DOWNLOAD_URL):\n",
    "    \n",
    "    os.makedirs(downloading_path, exist_ok = True)\n",
    "    zip_file_path = os.path.join(downloading_path,\"titanic.zip\")\n",
    "\n",
    "    urllib.request.urlretrieve(download_url,zip_file_path)\n",
    "    \n",
    "    zip_file = ZipFile(zip_file_path)\n",
    "    zip_file.extractall(path=downloading_path)\n",
    "    zip_file.close()"
   ]
  },
  {
   "cell_type": "code",
   "execution_count": null,
   "metadata": {},
   "outputs": [],
   "source": [
    "os.listdir(\"DataSets\")"
   ]
  },
  {
   "cell_type": "markdown",
   "metadata": {},
   "source": [
    "# Put that in .py module and use in notebook:"
   ]
  },
  {
   "cell_type": "code",
   "execution_count": null,
   "metadata": {},
   "outputs": [],
   "source": [
    "import os\n",
    "import numpy as np\n",
    "import pandas as pd \n",
    "from zipfile import ZipFile\n",
    "from kaggle.api.kaggle_api_extended import KaggleApi\n",
    "from sklearn.model_selection import StratifiedShuffleSplit\n",
    "\n",
    "\n",
    "# Get 2 levels up in directory structure to root directory of the project\n",
    "PROJECT_ROOT = os.path.dirname(os.path.dirname(os.path.dirname(__file__))) \n",
    "RAW_DATA_DIR = os.path.join(PROJECT_ROOT, \"data/raw\")\n",
    "DATASET_NAME_KAGGLE = \"titanic\"\n",
    "\n",
    "RAW_FILE_PATH = os.path.join(RAW_DATA_DIR, \"titanic.zip\")\n",
    "RAW_TRAIN_PATH = os.path.join(RAW_DATA_DIR, \"train.csv\")\n",
    "RAW_TEST_PATH = os.path.join(RAW_DATA_DIR, \"test.csv\")\n",
    "RAW_DISPLAY_PATH = \"/data/raw\"\n",
    "\n",
    "INTERM_DATA_DIR = os.path.join(PROJECT_ROOT, \"data/intermi\")\n",
    "INTERM_TRAIN_PATH = os.path.join(INTERM_DATA_DIR, \"train.csv\")\n",
    "INTERM_TEST_PATH = os.path.join(INTERM_DATA_DIR, \"test.csv\")\n",
    "\n",
    "\n",
    "\n",
    "def download_titanic_data_from_kaggle(redownload_flag = False):\n",
    "    \"\"\"\n",
    "    Make sure you have added kaggle.json file in .kaggle folder in Users/username folder.\n",
    "    \"\"\"\n",
    "    if redownload_flag is True or os.path.exists(RAW_FILE_PATH) is False:\n",
    "        api = KaggleApi()\n",
    "        api.authenticate()\n",
    "        os.chdir(RAW_DATA_DIR)\n",
    "        files = api.competition_download_files(DATASET_NAME_KAGGLE)\n",
    "        print(\"Dataset downloaded at \" + RAW_DISPLAY_PATH)\n",
    "    else: \n",
    "        print(\"Dataset already downloaded at \" + RAW_DISPLAY_PATH)\n"
   ]
  },
  {
   "cell_type": "code",
   "execution_count": null,
   "metadata": {},
   "outputs": [],
   "source": []
  }
 ],
 "metadata": {
  "kernelspec": {
   "display_name": "Python 3",
   "language": "python",
   "name": "python3"
  },
  "language_info": {
   "codemirror_mode": {
    "name": "ipython",
    "version": 3
   },
   "file_extension": ".py",
   "mimetype": "text/x-python",
   "name": "python",
   "nbconvert_exporter": "python",
   "pygments_lexer": "ipython3",
   "version": "3.7.4"
  }
 },
 "nbformat": 4,
 "nbformat_minor": 4
}
