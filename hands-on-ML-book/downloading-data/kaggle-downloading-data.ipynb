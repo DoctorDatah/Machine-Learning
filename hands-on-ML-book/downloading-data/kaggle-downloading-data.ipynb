{
 "cells": [
  {
   "cell_type": "code",
   "execution_count": 1,
   "metadata": {},
   "outputs": [],
   "source": [
    "import os\n",
    "from zipfile import ZipFile\n",
    "import urllib\n",
    "\n",
    "DOWNLOAD_ROOT = \"https://github.com/DoctorDatah/Titanic-Machine-Learning-from-Disaster-Kaggle/raw/master\"\n",
    "DOWNLOADING_PATH = \"DataSets\" # os.path.join(\"DataSets\", \"xxx\")\n",
    "DOWNLOAD_URL = DOWNLOAD_ROOT + \"/raw/titanic.zip\"\n",
    "\n",
    "def fetch_titanic_data(downloading_path = DOWNLOADING_PATH, download_url = DOWNLOAD_URL):\n",
    "    \n",
    "    os.makedirs(downloading_path, exist_ok = True)\n",
    "    zip_file_path = os.path.join(downloading_path,\"titanic.zip\")\n",
    "\n",
    "    urllib.request.urlretrieve(download_url,zip_file_path)\n",
    "    \n",
    "    zip_file = ZipFile(zip_file_path)\n",
    "    zip_file.extractall(path=downloading_path)\n",
    "    zip_file.close()"
   ]
  },
  {
   "cell_type": "code",
   "execution_count": null,
   "metadata": {},
   "outputs": [],
   "source": [
    "os.listdir(\"DataSets\")"
   ]
  },
  {
   "cell_type": "code",
   "execution_count": null,
   "metadata": {},
   "outputs": [],
   "source": []
  }
 ],
 "metadata": {
  "kernelspec": {
   "display_name": "Python 3",
   "language": "python",
   "name": "python3"
  },
  "language_info": {
   "codemirror_mode": {
    "name": "ipython",
    "version": 3
   },
   "file_extension": ".py",
   "mimetype": "text/x-python",
   "name": "python",
   "nbconvert_exporter": "python",
   "pygments_lexer": "ipython3",
   "version": "3.7.4"
  }
 },
 "nbformat": 4,
 "nbformat_minor": 4
}
